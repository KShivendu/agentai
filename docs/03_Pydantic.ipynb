{
 "cells": [
  {
   "cell_type": "code",
   "execution_count": 3,
   "metadata": {},
   "outputs": [
    {
     "name": "stdout",
     "output_type": "stream",
     "text": [
      "The autoreload extension is already loaded. To reload it, use:\n",
      "  %reload_ext autoreload\n"
     ]
    }
   ],
   "source": [
    "%load_ext autoreload\n",
    "%autoreload 2\n",
    "\n",
    "GPT_MODEL = \"gpt-3.5-turbo-0613\"\n",
    "EMBEDDING_MODEL = \"text-embedding-ada-002\"\n",
    "\n",
    "from agentai.api import chat_complete, chat_complete_execute_fn\n",
    "from agentai.annotations import tool, ToolRegistry\n",
    "from agentai.conversation import Conversation\n",
    "from agentai.sqlite_utils import DBUtils\n",
    "import json\n",
    "from typing import Any\n",
    "from enum import Enum\n",
    "import sqlite3\n",
    "from pydantic import BaseModel, Field\n",
    "\n",
    "weather_registry = ToolRegistry()  # Namespace for functions"
   ]
  },
  {
   "cell_type": "code",
   "execution_count": 10,
   "metadata": {},
   "outputs": [],
   "source": [
    "class TemperatureUnit(BaseModel):\n",
    "    celsius: str = Field(..., description=\"Celsius\")\n",
    "    fahrenheit: str = Field(..., description=\"Fahrenheit\")\n",
    "\n",
    "\n",
    "@tool(weather_registry)\n",
    "def get_current_weather(location: str, format: TemperatureUnit) -> str:\n",
    "    \"\"\"\n",
    "    Get the current weather\n",
    "\n",
    "    Args:\n",
    "        location (str): The city and state, e.g. San Francisco, CA\n",
    "        format (str): The temperature unit to use. Infer this from the users location.\n",
    "\n",
    "    Returns:\n",
    "        str: The current weather\n",
    "    \"\"\"\n",
    "    # Your function implementation goes here.\n",
    "    print(f\"Getting weather for {location} in {format}\")"
   ]
  },
  {
   "cell_type": "code",
   "execution_count": 11,
   "metadata": {},
   "outputs": [
    {
     "data": {
      "text/plain": [
       "{'name': 'get_current_weather',\n",
       " 'description': 'Get the current weather',\n",
       " 'parameters': {'type': 'object',\n",
       "  'properties': {'location': {'type': 'string',\n",
       "    'description': 'The city and state, e.g. San Francisco, CA'},\n",
       "   'format': {'title': 'TemperatureUnit',\n",
       "    'type': 'object',\n",
       "    'properties': {'celsius': {'title': 'Celsius',\n",
       "      'description': 'Celsius',\n",
       "      'type': 'string'},\n",
       "     'fahrenheit': {'title': 'Fahrenheit',\n",
       "      'description': 'Fahrenheit',\n",
       "      'type': 'string'}},\n",
       "    'required': ['celsius', 'fahrenheit'],\n",
       "    'description': 'The temperature unit to use. Infer this from the users location.'}},\n",
       "  'required': ['location']}}"
      ]
     },
     "execution_count": 11,
     "metadata": {},
     "output_type": "execute_result"
    }
   ],
   "source": [
    "get_current_weather._schema"
   ]
  },
  {
   "cell_type": "code",
   "execution_count": null,
   "metadata": {},
   "outputs": [],
   "source": []
  }
 ],
 "metadata": {
  "kernelspec": {
   "display_name": "qt",
   "language": "python",
   "name": "python3"
  },
  "language_info": {
   "codemirror_mode": {
    "name": "ipython",
    "version": 3
   },
   "file_extension": ".py",
   "mimetype": "text/x-python",
   "name": "python",
   "nbconvert_exporter": "python",
   "pygments_lexer": "ipython3",
   "version": "3.8.16"
  },
  "orig_nbformat": 4
 },
 "nbformat": 4,
 "nbformat_minor": 2
}
