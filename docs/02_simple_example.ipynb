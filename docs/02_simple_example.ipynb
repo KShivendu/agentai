{
 "cells": [
  {
   "cell_type": "code",
   "execution_count": 1,
   "metadata": {},
   "outputs": [
    {
     "name": "stdout",
     "output_type": "stream",
     "text": [
      "Requirement already satisfied: agentai in /opt/homebrew/Caskroom/miniconda/base/envs/qt/lib/python3.8/site-packages (0.0.2)\n",
      "Requirement already satisfied: tiktoken<0.5.0,>=0.4.0 in /opt/homebrew/Caskroom/miniconda/base/envs/qt/lib/python3.8/site-packages (from agentai) (0.4.0)\n",
      "Requirement already satisfied: pydantic<2.0.0,>=1.10.9 in /opt/homebrew/Caskroom/miniconda/base/envs/qt/lib/python3.8/site-packages (from agentai) (1.10.9)\n",
      "Requirement already satisfied: tenacity<9.0.0,>=8.2.2 in /opt/homebrew/Caskroom/miniconda/base/envs/qt/lib/python3.8/site-packages (from agentai) (8.2.2)\n",
      "Requirement already satisfied: docstring-parser<0.16,>=0.15 in /opt/homebrew/Caskroom/miniconda/base/envs/qt/lib/python3.8/site-packages (from agentai) (0.15)\n",
      "Requirement already satisfied: loguru<0.8.0,>=0.7.0 in /opt/homebrew/Caskroom/miniconda/base/envs/qt/lib/python3.8/site-packages (from agentai) (0.7.0)\n",
      "Requirement already satisfied: ruff<0.0.273,>=0.0.272 in /opt/homebrew/Caskroom/miniconda/base/envs/qt/lib/python3.8/site-packages (from agentai) (0.0.272)\n",
      "Requirement already satisfied: termcolor<3.0.0,>=2.3.0 in /opt/homebrew/Caskroom/miniconda/base/envs/qt/lib/python3.8/site-packages (from agentai) (2.3.0)\n",
      "Requirement already satisfied: requests<3.0.0,>=2.31.0 in /opt/homebrew/Caskroom/miniconda/base/envs/qt/lib/python3.8/site-packages (from agentai) (2.31.0)\n",
      "Requirement already satisfied: openai<0.28.0,>=0.27.8 in /opt/homebrew/Caskroom/miniconda/base/envs/qt/lib/python3.8/site-packages (from agentai) (0.27.8)\n",
      "Requirement already satisfied: isort<6.0.0,>=5.12.0 in /opt/homebrew/Caskroom/miniconda/base/envs/qt/lib/python3.8/site-packages (from agentai) (5.12.0)\n",
      "Requirement already satisfied: typing-extensions<5.0.0,>=4.6.3 in /opt/homebrew/Caskroom/miniconda/base/envs/qt/lib/python3.8/site-packages (from agentai) (4.6.3)\n",
      "Requirement already satisfied: pandas<3.0.0,>=2.0.2 in /opt/homebrew/Caskroom/miniconda/base/envs/qt/lib/python3.8/site-packages (from agentai) (2.0.2)\n",
      "Requirement already satisfied: tqdm in /opt/homebrew/Caskroom/miniconda/base/envs/qt/lib/python3.8/site-packages (from openai<0.28.0,>=0.27.8->agentai) (4.65.0)\n",
      "Requirement already satisfied: aiohttp in /opt/homebrew/Caskroom/miniconda/base/envs/qt/lib/python3.8/site-packages (from openai<0.28.0,>=0.27.8->agentai) (3.8.4)\n",
      "Requirement already satisfied: tzdata>=2022.1 in /opt/homebrew/Caskroom/miniconda/base/envs/qt/lib/python3.8/site-packages (from pandas<3.0.0,>=2.0.2->agentai) (2023.3)\n",
      "Requirement already satisfied: pytz>=2020.1 in /opt/homebrew/Caskroom/miniconda/base/envs/qt/lib/python3.8/site-packages (from pandas<3.0.0,>=2.0.2->agentai) (2023.3)\n",
      "Requirement already satisfied: numpy>=1.20.3 in /opt/homebrew/Caskroom/miniconda/base/envs/qt/lib/python3.8/site-packages (from pandas<3.0.0,>=2.0.2->agentai) (1.24.3)\n",
      "Requirement already satisfied: python-dateutil>=2.8.2 in /opt/homebrew/Caskroom/miniconda/base/envs/qt/lib/python3.8/site-packages (from pandas<3.0.0,>=2.0.2->agentai) (2.8.2)\n",
      "Requirement already satisfied: idna<4,>=2.5 in /opt/homebrew/Caskroom/miniconda/base/envs/qt/lib/python3.8/site-packages (from requests<3.0.0,>=2.31.0->agentai) (3.4)\n",
      "Requirement already satisfied: urllib3<3,>=1.21.1 in /opt/homebrew/Caskroom/miniconda/base/envs/qt/lib/python3.8/site-packages (from requests<3.0.0,>=2.31.0->agentai) (2.0.3)\n",
      "Requirement already satisfied: certifi>=2017.4.17 in /opt/homebrew/Caskroom/miniconda/base/envs/qt/lib/python3.8/site-packages (from requests<3.0.0,>=2.31.0->agentai) (2023.5.7)\n",
      "Requirement already satisfied: charset-normalizer<4,>=2 in /opt/homebrew/Caskroom/miniconda/base/envs/qt/lib/python3.8/site-packages (from requests<3.0.0,>=2.31.0->agentai) (3.1.0)\n",
      "Requirement already satisfied: regex>=2022.1.18 in /opt/homebrew/Caskroom/miniconda/base/envs/qt/lib/python3.8/site-packages (from tiktoken<0.5.0,>=0.4.0->agentai) (2023.6.3)\n",
      "Requirement already satisfied: six>=1.5 in /opt/homebrew/Caskroom/miniconda/base/envs/qt/lib/python3.8/site-packages (from python-dateutil>=2.8.2->pandas<3.0.0,>=2.0.2->agentai) (1.16.0)\n",
      "Requirement already satisfied: multidict<7.0,>=4.5 in /opt/homebrew/Caskroom/miniconda/base/envs/qt/lib/python3.8/site-packages (from aiohttp->openai<0.28.0,>=0.27.8->agentai) (6.0.4)\n",
      "Requirement already satisfied: aiosignal>=1.1.2 in /opt/homebrew/Caskroom/miniconda/base/envs/qt/lib/python3.8/site-packages (from aiohttp->openai<0.28.0,>=0.27.8->agentai) (1.3.1)\n",
      "Requirement already satisfied: attrs>=17.3.0 in /opt/homebrew/Caskroom/miniconda/base/envs/qt/lib/python3.8/site-packages (from aiohttp->openai<0.28.0,>=0.27.8->agentai) (23.1.0)\n",
      "Requirement already satisfied: frozenlist>=1.1.1 in /opt/homebrew/Caskroom/miniconda/base/envs/qt/lib/python3.8/site-packages (from aiohttp->openai<0.28.0,>=0.27.8->agentai) (1.3.3)\n",
      "Requirement already satisfied: async-timeout<5.0,>=4.0.0a3 in /opt/homebrew/Caskroom/miniconda/base/envs/qt/lib/python3.8/site-packages (from aiohttp->openai<0.28.0,>=0.27.8->agentai) (4.0.2)\n",
      "Requirement already satisfied: yarl<2.0,>=1.0 in /opt/homebrew/Caskroom/miniconda/base/envs/qt/lib/python3.8/site-packages (from aiohttp->openai<0.28.0,>=0.27.8->agentai) (1.9.2)\n"
     ]
    }
   ],
   "source": [
    "!pip install agentai"
   ]
  },
  {
   "cell_type": "code",
   "execution_count": null,
   "metadata": {},
   "outputs": [],
   "source": [
    "# from datetime import datetime\n",
    "# r = ToolRegistry()\n",
    "# @tool(r)\n",
    "# def extract_time(query: str)->datetime:\n",
    "#     \"\"\"\n",
    "#     Returns the datetime in ISO format from the query\n",
    "\n",
    "#     Args:\n",
    "#         query (str): The query to extract the time from\n",
    "#     \"\"\"\n",
    "#     pass\n",
    "\n",
    "# c = Conversation()\n",
    "# c.add_message(\"system\", \"You're a scheduling bot. You can schedule meetings and appointments.\")\n",
    "# c.add_message(\"user\", \"Does 2 PM on 2nd Sunday of June work for you?\")\n",
    "\n",
    "# chat_response = chat_complete(\n",
    "#     conversation=c,\n",
    "#     tool_registry=r,\n",
    "#     model=GPT_MODEL,\n",
    "# )\n",
    "# chat_response.choices[0].message"
   ]
  }
 ],
 "metadata": {
  "kernelspec": {
   "display_name": "qt",
   "language": "python",
   "name": "python3"
  },
  "language_info": {
   "codemirror_mode": {
    "name": "ipython",
    "version": 3
   },
   "file_extension": ".py",
   "mimetype": "text/x-python",
   "name": "python",
   "nbconvert_exporter": "python",
   "pygments_lexer": "ipython3",
   "version": "3.8.16"
  },
  "orig_nbformat": 4
 },
 "nbformat": 4,
 "nbformat_minor": 2
}
